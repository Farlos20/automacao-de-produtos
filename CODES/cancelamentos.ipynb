{
 "cells": [
  {
   "cell_type": "code",
   "execution_count": null,
   "id": "5da8e230",
   "metadata": {},
   "outputs": [],
   "source": [
    "#importar base de dados\n",
    "import pandas as pd\n",
    "\n",
    "tabela = pd.read_csv(\"cancelamentos_sample.csv\")\n",
    "display(tabela)\n"
   ]
  },
  {
   "cell_type": "code",
   "execution_count": 5,
   "id": "ca33235a",
   "metadata": {},
   "outputs": [
    {
     "name": "stdout",
     "output_type": "stream",
     "text": [
      "<class 'pandas.core.frame.DataFrame'>\n",
      "RangeIndex: 50000 entries, 0 to 49999\n",
      "Data columns (total 12 columns):\n",
      " #   Column                  Non-Null Count  Dtype  \n",
      "---  ------                  --------------  -----  \n",
      " 0   CustomerID              50000 non-null  float64\n",
      " 1   idade                   50000 non-null  float64\n",
      " 2   sexo                    49997 non-null  object \n",
      " 3   tempo_como_cliente      49998 non-null  float64\n",
      " 4   frequencia_uso          50000 non-null  float64\n",
      " 5   ligacoes_callcenter     50000 non-null  float64\n",
      " 6   dias_atraso             50000 non-null  float64\n",
      " 7   assinatura              50000 non-null  object \n",
      " 8   duracao_contrato        50000 non-null  object \n",
      " 9   total_gasto             50000 non-null  float64\n",
      " 10  meses_ultima_interacao  50000 non-null  float64\n",
      " 11  cancelou                50000 non-null  float64\n",
      "dtypes: float64(9), object(3)\n",
      "memory usage: 4.6+ MB\n"
     ]
    },
    {
     "data": {
      "text/plain": [
       "None"
      ]
     },
     "metadata": {},
     "output_type": "display_data"
    }
   ],
   "source": [
    "#Fazer  Tratamento da base de dados\n",
    "display(tabela.info())"
   ]
  },
  {
   "cell_type": "code",
   "execution_count": null,
   "id": "1a177735",
   "metadata": {},
   "outputs": [],
   "source": [
    "#verificar quantas pessoas cancelam o serviço e a %\n",
    "#Como resolver e calcular o numero de cancelamento apos a solução do problema  "
   ]
  }
 ],
 "metadata": {
  "kernelspec": {
   "display_name": "Python 3",
   "language": "python",
   "name": "python3"
  },
  "language_info": {
   "codemirror_mode": {
    "name": "ipython",
    "version": 3
   },
   "file_extension": ".py",
   "mimetype": "text/x-python",
   "name": "python",
   "nbconvert_exporter": "python",
   "pygments_lexer": "ipython3",
   "version": "3.13.3"
  }
 },
 "nbformat": 4,
 "nbformat_minor": 5
}
